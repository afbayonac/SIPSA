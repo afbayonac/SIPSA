{
 "cells": [
  {
   "cell_type": "markdown",
   "metadata": {},
   "source": [
    "# SIPSA DATA\n",
    "\n",
    "SIPSA se encarga de recolectar información de productos perecederos en los principales mercados de la mayoría de ciudades del país,\n",
    "generando boletines diarios de estos, en este notebook intentamos organizar estas datos en archivos con la extensión .csv , convirtiendo archivos diarios que contienen una lista de productos en archivos de productos indexados por fecha.\n",
    "\n",
    "estos archivos se generan de lunes a viernes.\n",
    "\n",
    "\n",
    "### fuente\n",
    "\n",
    "los boletines se descargaron de la plataforma web del DANE con el script que se encuentra en mismo folder data_download.sh\n",
    "no todos se pudieron descargar porque algunos no existían  y otros estaban en un formato diferente."
   ]
  },
  {
   "cell_type": "code",
   "execution_count": 1,
   "metadata": {
    "collapsed": true,
    "scrolled": true
   },
   "outputs": [],
   "source": [
    "import numpy as np\n",
    "import pandas as pd\n",
    "import re\n",
    "import os"
   ]
  },
  {
   "cell_type": "code",
   "execution_count": 2,
   "metadata": {
    "code_folding": [
     1
    ],
    "collapsed": false,
    "scrolled": true
   },
   "outputs": [],
   "source": [
    "#  funcion con las fuentes de la informacion se tratan por ciudad \n",
    "def ciudad(name):\n",
    "    if (re.search('Bogotá*', name, flags= re.IGNORECASE)):\n",
    "        return 'bogota'\n",
    "    if (re.search('Barranquilla*', name, flags=re.IGNORECASE)):\n",
    "        return 'barranquilla'\n",
    "    if (re.search('Bucaramanga*', name, flags=re.IGNORECASE)):\n",
    "        return 'bucaramanga'\n",
    "    if (re.search('Cartagena*', name, flags=re.IGNORECASE)):\n",
    "        return 'cartagena'\n",
    "    if (re.search('Cúcuta*', name, flags=re.IGNORECASE)):\n",
    "        return 'cucuta'\n",
    "    if (re.search('Ibagué*', name, flags=re.IGNORECASE)):\n",
    "        return 'ibague'\n",
    "    if (re.search('Medellín*', name, flags=re.IGNORECASE)):\n",
    "        return 'medellin'\n",
    "    if (re.search('Montería*', name, flags=re.IGNORECASE)):\n",
    "        return 'monteria'\n",
    "    if (re.search('Neiva*', name, flags=re.IGNORECASE)):\n",
    "        return 'neiva'\n",
    "    if (re.search('Pereira*', name, flags=re.IGNORECASE)):\n",
    "        return 'pereira'\n",
    "    if (re.search('Popayán*', name, flags=re.IGNORECASE)):\n",
    "        return 'popayan'\n",
    "    if (re.search('Sincelejo*', name, flags=re.IGNORECASE)):\n",
    "        return 'sincelejo'\n",
    "    if (re.search('Tunja*', name, flags=re.IGNORECASE)):\n",
    "        return 'tunja'\n",
    "    if (re.search('Valledupar*', name, flags=re.IGNORECASE)):\n",
    "        return 'valledupar'\n",
    "    if (re.search('Villavicencio*', name, flags=re.IGNORECASE)):\n",
    "        return 'villavicencio'\n",
    "    if (re.search('Cali*', name, flags=re.IGNORECASE)):\n",
    "        return 'cali'\n",
    "    if (re.search('Armenia*', name, flags=re.IGNORECASE)):\n",
    "        return 'armenia'\n",
    "    if (re.search('Manizales*', name, flags=re.IGNORECASE)):\n",
    "        return 'manizales'\n",
    "    if (re.search('Pasto*', name, flags=re.IGNORECASE)):\n",
    "        return 'pasto'\n",
    "    if (re.search('Santa Marta*', name, flags=re.IGNORECASE)):\n",
    "        return 'santa_marta'\n",
    "    return \"add element : \" + name\n"
   ]
  },
  {
   "cell_type": "markdown",
   "metadata": {},
   "source": [
    "# Load boletin\n",
    "\n",
    "la siguiente función permite cargar los archivos y convertirlos en data frames"
   ]
  },
  {
   "cell_type": "code",
   "execution_count": 3,
   "metadata": {
    "collapsed": true,
    "scrolled": true
   },
   "outputs": [],
   "source": [
    "# funcion para parcear el xls to Data frame tratable\n",
    "\n",
    "def generate_boletin_pd(file):\n",
    "    xl = pd.ExcelFile(file)\n",
    "    df1 = xl.parse()\n",
    "    df1 = df1.rename(columns={ df1.columns[0] : 'productos' })\n",
    "    df1= df1.set_index(['productos'])\n",
    "    for i in range(0,df1.loc[\"Precio $/Kg\"].shape[0],2):\n",
    "        \n",
    "        label = [\"_precio\",\"_var\"]\n",
    "        df1.loc[\"Precio $/Kg\"][i] = ciudad(df1.loc[\"Precio $/Kg\"][i])\n",
    "        df1.loc[\"Precio $/Kg\"][i+1] = df1.loc[\"Precio $/Kg\"][i] + label[1]\n",
    "        df1.loc[\"Precio $/Kg\"][i] = df1.loc[\"Precio $/Kg\"][i] + label[0]\n",
    "    # change names colums\n",
    "    df1.columns = df1.loc[\"Precio $/Kg\"]\n",
    "    # delete index name\n",
    "    del df1.index.name\n",
    "    return df1"
   ]
  },
  {
   "cell_type": "code",
   "execution_count": 4,
   "metadata": {
    "collapsed": false,
    "scrolled": true
   },
   "outputs": [
    {
     "name": "stdout",
     "output_type": "stream",
     "text": [
      "Files :  1143\n",
      "Files Load :  1122\n"
     ]
    }
   ],
   "source": [
    "\n",
    "path = 'data/'\n",
    "listing = os.listdir(path)\n",
    "print (\"Files : \" , len(listing))\n",
    "\n",
    "# dicionarios con los data frames\n",
    "res = {}\n",
    "for infile in listing:\n",
    "    try:\n",
    "        res[infile[0:8]] = generate_boletin_pd('data/'+infile)\n",
    "        for i in res.loc[\"Precio $/Kg\"].values:\n",
    "            if (re.search('add element*', i, flags=re.IGNORECASE)):\n",
    "                print( i )\n",
    "    except Exception:\n",
    "        pass  # or you could use 'continue'\n",
    "\n",
    "print (\"Files Load : \" , len(res.items()))"
   ]
  },
  {
   "cell_type": "markdown",
   "metadata": {
    "collapsed": true
   },
   "source": [
    "NOTE: algunos archivos no cumplen con el formato, no los utilizamos # 22"
   ]
  },
  {
   "cell_type": "markdown",
   "metadata": {},
   "source": [
    "#### las fuentes"
   ]
  },
  {
   "cell_type": "code",
   "execution_count": 7,
   "metadata": {
    "code_folding": [
     0
    ],
    "collapsed": false,
    "scrolled": false
   },
   "outputs": [],
   "source": [
    "columns =  [ 'bogota_precio',             \n",
    "             'bogota_var',\n",
    "             'barranquilla_precio',\n",
    "             'barranquilla_var',\n",
    "             'bucaramanga_precio',\n",
    "             'bucaramanga_var',\n",
    "             'cartagena_precio',\n",
    "             'cartagena_var',\n",
    "             'cucuta_precio',\n",
    "             'cucuta_var',\n",
    "             'ibague_precio',\n",
    "             'ibague_var',\n",
    "             'medellin_precio',\n",
    "             'medellin_var',\n",
    "             'monteria_precio',\n",
    "             'monteria_var',\n",
    "             'neiva_precio',\n",
    "             'neiva_var',\n",
    "             'pereira_precio',\n",
    "             'pereira_var',\n",
    "             'popayan_precio',\n",
    "             'popayan_var',\n",
    "             'sincelejo_precio',\n",
    "             'sincelejo_var',\n",
    "             'tunja_precio',\n",
    "             'tunja_var',\n",
    "             'valledupar_precio',\n",
    "             'valledupar_var',\n",
    "             'villavicencio_precio',\n",
    "             'villavicencio_var',\n",
    "             'cali_precio',\n",
    "             'cali_var',\n",
    "             'armenia_precio',\n",
    "             'armenia_var',\n",
    "             'manizales_precio',\n",
    "             'manizales_var',\n",
    "             'pasto_precio',\n",
    "             'pasto_var',\n",
    "             'santa_marta_precio',\n",
    "             'santa_marta_var']"
   ]
  },
  {
   "cell_type": "markdown",
   "metadata": {},
   "source": [
    "# Prueba:  Dataframe con la Ahuyama"
   ]
  },
  {
   "cell_type": "code",
   "execution_count": 8,
   "metadata": {
    "collapsed": false
   },
   "outputs": [],
   "source": [
    "# generacion de un DataFreame para la Ahuyama\n",
    "ahu = pd.DataFrame(columns=columns)\n",
    "for i in res: \n",
    "    #print (i)\n",
    "    df = res[i].loc[['Ahuyama'],:]\n",
    "    # eliminacion de  columnas duplicadas\n",
    "    # mercados diferentes en una misma ciudad \n",
    "    # NOTE perdida de la informacion\n",
    "    df = df.loc[:,~df.columns.duplicated()]\n",
    "    df.index = [i]\n",
    "    ahu = pd.concat([ahu,df], join='outer')"
   ]
  },
  {
   "cell_type": "code",
   "execution_count": 9,
   "metadata": {
    "collapsed": false
   },
   "outputs": [
    {
     "name": "stdout",
     "output_type": "stream",
     "text": [
      "(1122, 40)\n"
     ]
    },
    {
     "data": {
      "text/html": [
       "<div>\n",
       "<table border=\"1\" class=\"dataframe\">\n",
       "  <thead>\n",
       "    <tr style=\"text-align: right;\">\n",
       "      <th></th>\n",
       "      <th>armenia_precio</th>\n",
       "      <th>armenia_var</th>\n",
       "      <th>barranquilla_precio</th>\n",
       "      <th>barranquilla_var</th>\n",
       "      <th>bogota_precio</th>\n",
       "      <th>bogota_var</th>\n",
       "      <th>bucaramanga_precio</th>\n",
       "      <th>bucaramanga_var</th>\n",
       "      <th>cali_precio</th>\n",
       "      <th>cali_var</th>\n",
       "      <th>...</th>\n",
       "      <th>santa_marta_precio</th>\n",
       "      <th>santa_marta_var</th>\n",
       "      <th>sincelejo_precio</th>\n",
       "      <th>sincelejo_var</th>\n",
       "      <th>tunja_precio</th>\n",
       "      <th>tunja_var</th>\n",
       "      <th>valledupar_precio</th>\n",
       "      <th>valledupar_var</th>\n",
       "      <th>villavicencio_precio</th>\n",
       "      <th>villavicencio_var</th>\n",
       "    </tr>\n",
       "  </thead>\n",
       "  <tbody>\n",
       "    <tr>\n",
       "      <th>20140327</th>\n",
       "      <td>533</td>\n",
       "      <td>0.0</td>\n",
       "      <td>NaN</td>\n",
       "      <td>NaN</td>\n",
       "      <td>883</td>\n",
       "      <td>0</td>\n",
       "      <td>585.0</td>\n",
       "      <td>0.010000</td>\n",
       "      <td>569.0</td>\n",
       "      <td>0.01</td>\n",
       "      <td>...</td>\n",
       "      <td>NaN</td>\n",
       "      <td>NaN</td>\n",
       "      <td>NaN</td>\n",
       "      <td>NaN</td>\n",
       "      <td>446.0</td>\n",
       "      <td>0.05</td>\n",
       "      <td>NaN</td>\n",
       "      <td>NaN</td>\n",
       "      <td>NaN</td>\n",
       "      <td>NaN</td>\n",
       "    </tr>\n",
       "    <tr>\n",
       "      <th>20120622</th>\n",
       "      <td>NaN</td>\n",
       "      <td>NaN</td>\n",
       "      <td>539.285714</td>\n",
       "      <td>-0.111765</td>\n",
       "      <td>900</td>\n",
       "      <td>0.0588235</td>\n",
       "      <td>625.0</td>\n",
       "      <td>-0.137931</td>\n",
       "      <td>600.0</td>\n",
       "      <td>NaN</td>\n",
       "      <td>...</td>\n",
       "      <td>NaN</td>\n",
       "      <td>NaN</td>\n",
       "      <td>NaN</td>\n",
       "      <td>NaN</td>\n",
       "      <td>NaN</td>\n",
       "      <td>NaN</td>\n",
       "      <td>NaN</td>\n",
       "      <td>NaN</td>\n",
       "      <td>NaN</td>\n",
       "      <td>NaN</td>\n",
       "    </tr>\n",
       "    <tr>\n",
       "      <th>20131004</th>\n",
       "      <td>NaN</td>\n",
       "      <td>NaN</td>\n",
       "      <td>536.000000</td>\n",
       "      <td>-0.06</td>\n",
       "      <td>817</td>\n",
       "      <td>0</td>\n",
       "      <td>700.0</td>\n",
       "      <td>0.000000</td>\n",
       "      <td>NaN</td>\n",
       "      <td>NaN</td>\n",
       "      <td>...</td>\n",
       "      <td>NaN</td>\n",
       "      <td>NaN</td>\n",
       "      <td>575.0</td>\n",
       "      <td>-0.07</td>\n",
       "      <td>446.0</td>\n",
       "      <td>0.00</td>\n",
       "      <td>600.0</td>\n",
       "      <td>0</td>\n",
       "      <td>1000.0</td>\n",
       "      <td>0</td>\n",
       "    </tr>\n",
       "    <tr>\n",
       "      <th>20130222</th>\n",
       "      <td>NaN</td>\n",
       "      <td>NaN</td>\n",
       "      <td>589.000000</td>\n",
       "      <td>0.01</td>\n",
       "      <td>771</td>\n",
       "      <td>0</td>\n",
       "      <td>600.0</td>\n",
       "      <td>0.000000</td>\n",
       "      <td>NaN</td>\n",
       "      <td>NaN</td>\n",
       "      <td>...</td>\n",
       "      <td>NaN</td>\n",
       "      <td>NaN</td>\n",
       "      <td>NaN</td>\n",
       "      <td>NaN</td>\n",
       "      <td>NaN</td>\n",
       "      <td>NaN</td>\n",
       "      <td>NaN</td>\n",
       "      <td>NaN</td>\n",
       "      <td>NaN</td>\n",
       "      <td>NaN</td>\n",
       "    </tr>\n",
       "    <tr>\n",
       "      <th>20161104</th>\n",
       "      <td>NaN</td>\n",
       "      <td>NaN</td>\n",
       "      <td>684.000000</td>\n",
       "      <td>0.01</td>\n",
       "      <td>850</td>\n",
       "      <td>-0.04</td>\n",
       "      <td>429.0</td>\n",
       "      <td>0.020000</td>\n",
       "      <td>NaN</td>\n",
       "      <td>NaN</td>\n",
       "      <td>...</td>\n",
       "      <td>571.0</td>\n",
       "      <td>0.0</td>\n",
       "      <td>600.0</td>\n",
       "      <td>0</td>\n",
       "      <td>422.0</td>\n",
       "      <td>0.00</td>\n",
       "      <td>600.0</td>\n",
       "      <td>0</td>\n",
       "      <td>NaN</td>\n",
       "      <td>NaN</td>\n",
       "    </tr>\n",
       "  </tbody>\n",
       "</table>\n",
       "<p>5 rows × 40 columns</p>\n",
       "</div>"
      ],
      "text/plain": [
       "         armenia_precio  armenia_var  barranquilla_precio barranquilla_var  \\\n",
       "20140327            533          0.0                  NaN              NaN   \n",
       "20120622            NaN          NaN           539.285714        -0.111765   \n",
       "20131004            NaN          NaN           536.000000            -0.06   \n",
       "20130222            NaN          NaN           589.000000             0.01   \n",
       "20161104            NaN          NaN           684.000000             0.01   \n",
       "\n",
       "          bogota_precio bogota_var  bucaramanga_precio  bucaramanga_var  \\\n",
       "20140327            883          0               585.0         0.010000   \n",
       "20120622            900  0.0588235               625.0        -0.137931   \n",
       "20131004            817          0               700.0         0.000000   \n",
       "20130222            771          0               600.0         0.000000   \n",
       "20161104            850      -0.04               429.0         0.020000   \n",
       "\n",
       "          cali_precio  cali_var        ...          santa_marta_precio  \\\n",
       "20140327        569.0      0.01        ...                         NaN   \n",
       "20120622        600.0       NaN        ...                         NaN   \n",
       "20131004          NaN       NaN        ...                         NaN   \n",
       "20130222          NaN       NaN        ...                         NaN   \n",
       "20161104          NaN       NaN        ...                       571.0   \n",
       "\n",
       "         santa_marta_var  sincelejo_precio  sincelejo_var  tunja_precio  \\\n",
       "20140327             NaN               NaN            NaN         446.0   \n",
       "20120622             NaN               NaN            NaN           NaN   \n",
       "20131004             NaN             575.0          -0.07         446.0   \n",
       "20130222             NaN               NaN            NaN           NaN   \n",
       "20161104             0.0             600.0              0         422.0   \n",
       "\n",
       "          tunja_var  valledupar_precio  valledupar_var  villavicencio_precio  \\\n",
       "20140327       0.05                NaN             NaN                   NaN   \n",
       "20120622        NaN                NaN             NaN                   NaN   \n",
       "20131004       0.00              600.0               0                1000.0   \n",
       "20130222        NaN                NaN             NaN                   NaN   \n",
       "20161104       0.00              600.0               0                   NaN   \n",
       "\n",
       "          villavicencio_var  \n",
       "20140327                NaN  \n",
       "20120622                NaN  \n",
       "20131004                  0  \n",
       "20130222                NaN  \n",
       "20161104                NaN  \n",
       "\n",
       "[5 rows x 40 columns]"
      ]
     },
     "execution_count": 9,
     "metadata": {},
     "output_type": "execute_result"
    }
   ],
   "source": [
    "# remove fields n.d. for a NaN\n",
    "ahu =  ahu.apply(lambda x: x.str.strip() if isinstance(x, str) else x).replace('n.d.', np.nan)\n",
    "print (ahu.shape)\n",
    "ahu.head()"
   ]
  },
  {
   "cell_type": "markdown",
   "metadata": {},
   "source": [
    "# Cuenta de la valores NaN en la Ahuyama\n",
    "\n",
    "    registros que no se tomaron por fuente"
   ]
  },
  {
   "cell_type": "code",
   "execution_count": 10,
   "metadata": {
    "collapsed": false
   },
   "outputs": [
    {
     "data": {
      "text/plain": [
       "[[489, 'armenia_precio'],\n",
       " [490, 'armenia_var'],\n",
       " [468, 'barranquilla_precio'],\n",
       " [471, 'barranquilla_var'],\n",
       " [0, 'bogota_precio'],\n",
       " [0, 'bogota_var'],\n",
       " [422, 'bucaramanga_precio'],\n",
       " [444, 'bucaramanga_var'],\n",
       " [459, 'cali_precio'],\n",
       " [461, 'cali_var'],\n",
       " [551, 'cartagena_precio'],\n",
       " [569, 'cartagena_var'],\n",
       " [420, 'cucuta_precio'],\n",
       " [423, 'cucuta_var'],\n",
       " [723, 'ibague_precio'],\n",
       " [748, 'ibague_var'],\n",
       " [794, 'manizales_precio'],\n",
       " [798, 'manizales_var'],\n",
       " [0, 'medellin_precio'],\n",
       " [0, 'medellin_var'],\n",
       " [710, 'monteria_precio'],\n",
       " [748, 'monteria_var'],\n",
       " [959, 'neiva_precio'],\n",
       " [963, 'neiva_var'],\n",
       " [1122, 'pasto_precio'],\n",
       " [1122, 'pasto_var'],\n",
       " [14, 'pereira_precio'],\n",
       " [23, 'pereira_var'],\n",
       " [788, 'popayan_precio'],\n",
       " [789, 'popayan_var'],\n",
       " [963, 'santa_marta_precio'],\n",
       " [981, 'santa_marta_var'],\n",
       " [641, 'sincelejo_precio'],\n",
       " [642, 'sincelejo_var'],\n",
       " [617, 'tunja_precio'],\n",
       " [625, 'tunja_var'],\n",
       " [613, 'valledupar_precio'],\n",
       " [617, 'valledupar_var'],\n",
       " [731, 'villavicencio_precio'],\n",
       " [737, 'villavicencio_var']]"
      ]
     },
     "execution_count": 10,
     "metadata": {},
     "output_type": "execute_result"
    }
   ],
   "source": [
    "# conoser cuantos valores faltan en cada ciudad\n",
    "[ [sum( [pd.isnull(i) for i in  ahu[j].values ]), j] for j in ahu.columns]"
   ]
  },
  {
   "cell_type": "markdown",
   "metadata": {},
   "source": [
    "#### productos"
   ]
  },
  {
   "cell_type": "code",
   "execution_count": 13,
   "metadata": {
    "code_folding": [
     0
    ],
    "collapsed": false
   },
   "outputs": [
    {
     "name": "stdout",
     "output_type": "stream",
     "text": [
      "(33,)\n"
     ]
    }
   ],
   "source": [
    "productos = np.array([    \n",
    "                 'Ahuyama',\n",
    "   'Arveja verde en vaina',\n",
    " 'Cebolla cabezona blanca',\n",
    "           'Cebolla junca',\n",
    "         'Chocolo mazorca',\n",
    "              'Habichuela',\n",
    "         'Pepino cohombro',\n",
    "                'Pimentón',\n",
    "               'Remolacha',\n",
    "                 'Tomate*',\n",
    "               'Zanahoria',\n",
    "              'Aguacate *',\n",
    "                 'Banano*',\n",
    "                    'Coco',\n",
    "              'Granadilla',\n",
    "                'Guayaba*',\n",
    "             'Limón común',\n",
    "            'Limón Tahití',\n",
    "                    'Lulo',\n",
    "              'Mandarina*',\n",
    "             'Mango tommy',\n",
    "                'Maracuyá',\n",
    "        'Mora de Castilla',\n",
    "                'Naranja*',\n",
    "          'Papaya maradol',\n",
    "                  'Piña *',\n",
    "         'Tomate de árbol',\n",
    "              'Arracacha*',\n",
    "             'Papa negra*',\n",
    "            'Papa criolla',\n",
    "          'Plátano guineo',\n",
    "    'Plátano hartón verde',\n",
    "                   'Yuca*'\n",
    "])\n",
    "print (productos.shape)"
   ]
  },
  {
   "cell_type": "markdown",
   "metadata": {},
   "source": [
    "# SAVE dataframe per product"
   ]
  },
  {
   "cell_type": "code",
   "execution_count": 14,
   "metadata": {
    "collapsed": false
   },
   "outputs": [
    {
     "name": "stdout",
     "output_type": "stream",
     "text": [
      "(1122, 40)   Ahuyama\n",
      "(1122, 40)   Arveja verde en vaina\n",
      "(1122, 40)   Cebolla cabezona blanca\n",
      "(1122, 40)   Cebolla junca\n",
      "(1120, 40)   Chocolo mazorca\n",
      "(1122, 40)   Habichuela\n",
      "(1122, 40)   Pepino cohombro\n",
      "(1122, 40)   Pimentón\n",
      "(1122, 40)   Remolacha\n",
      "(1096, 40)   Tomate*\n",
      "(1122, 40)   Zanahoria\n",
      "(1103, 40)   Aguacate *\n",
      "(1085, 40)   Banano*\n",
      "(1122, 40)   Coco\n",
      "(1122, 40)   Granadilla\n",
      "(1085, 40)   Guayaba*\n",
      "(1120, 40)   Limón común\n",
      "(1122, 40)   Limón Tahití\n",
      "(1122, 40)   Lulo\n",
      "(1096, 40)   Mandarina*\n",
      "(1122, 40)   Mango tommy\n",
      "(1122, 40)   Maracuyá\n",
      "(1122, 40)   Mora de Castilla\n",
      "(998, 40)   Naranja*\n",
      "(1122, 40)   Papaya maradol\n",
      "(1122, 40)   Piña *\n",
      "(1122, 40)   Tomate de árbol\n",
      "(1096, 40)   Arracacha*\n",
      "(1096, 40)   Papa negra*\n",
      "(1122, 40)   Papa criolla\n",
      "(1122, 40)   Plátano guineo\n",
      "(1122, 40)   Plátano hartón verde\n",
      "(1096, 40)   Yuca*\n"
     ]
    }
   ],
   "source": [
    "for j in productos :\n",
    "    dt = pd.DataFrame(columns=columns)\n",
    "    for i in res: \n",
    "        #si un elemento no se encintuentra en el boletin diario\n",
    "        if not sum([ h == j for h in res[i].index]):\n",
    "            continue\n",
    "        df = res[i].loc[[j],:]\n",
    "        # eliminacion de  columnas duplicadas\n",
    "        # mercados diferentes en una misma ciudad \n",
    "        # NOTE perdida de la informacion\n",
    "        df = df.loc[:,~df.columns.duplicated()]\n",
    "        df.index = [i]\n",
    "        dt = pd.concat([dt,df], join='outer')\n",
    "    # remplace field not numeric to NaN\n",
    "    dt =  dt.apply(lambda x: x.str.strip() if isinstance(x, str) else x).replace('n.d.' ,np.nan)\n",
    "    dt.to_csv('data/csv/' + j.encode(\"ascii\", \"ignore\").decode().replace(\" \", \"_\") + '.csv', encoding='utf-8')\n",
    "    print(dt.shape , \" \", j)"
   ]
  },
  {
   "cell_type": "markdown",
   "metadata": {
    "collapsed": true
   },
   "source": [
    "## Notas\n",
    "\n",
    "* se pierde infromacion cuando hay mas de dos fuentes por ciudad (por la forma en tratamos los datos)\n",
    "* pocas ciudades tienes un alto numero de regitros \n",
    "* se puede perder inrformacion si los productos estan indexados otro nombre"
   ]
  },
  {
   "cell_type": "code",
   "execution_count": null,
   "metadata": {
    "collapsed": true
   },
   "outputs": [],
   "source": []
  }
 ],
 "metadata": {
  "anaconda-cloud": {},
  "kernelspec": {
   "display_name": "Python [default]",
   "language": "python",
   "name": "python3"
  },
  "language_info": {
   "codemirror_mode": {
    "name": "ipython",
    "version": 3
   },
   "file_extension": ".py",
   "mimetype": "text/x-python",
   "name": "python",
   "nbconvert_exporter": "python",
   "pygments_lexer": "ipython3",
   "version": "3.5.2"
  },
  "toc": {
   "colors": {
    "hover_highlight": "#DAA520",
    "running_highlight": "#FF0000",
    "selected_highlight": "#FFD700"
   },
   "moveMenuLeft": true,
   "nav_menu": {
    "height": "195px",
    "width": "252px"
   },
   "navigate_menu": true,
   "number_sections": false,
   "sideBar": true,
   "threshold": 4,
   "toc_cell": false,
   "toc_section_display": "block",
   "toc_window_display": false
  }
 },
 "nbformat": 4,
 "nbformat_minor": 1
}
